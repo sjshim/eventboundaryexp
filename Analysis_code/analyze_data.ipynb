{
 "cells": [
  {
   "cell_type": "code",
   "execution_count": 1,
   "metadata": {},
   "outputs": [],
   "source": [
    "import numpy as np\n",
    "import pandas as pd\n",
    "import glob\n",
    "import matplotlib.pyplot as plt"
   ]
  },
  {
   "cell_type": "code",
   "execution_count": 2,
   "metadata": {},
   "outputs": [],
   "source": [
    "### Paths\n",
    "exp1 = '/Users/sunjaeshim/Desktop/HonorsResearch2022/Exp 1/data/BIDS'"
   ]
  },
  {
   "cell_type": "markdown",
   "metadata": {},
   "source": [
    "1. Classify within or between\n",
    "2. Get present phase accuracy\n",
    "3. Get order phase accuracy (by segment condition)"
   ]
  },
  {
   "cell_type": "code",
   "execution_count": 3,
   "metadata": {},
   "outputs": [],
   "source": [
    "def count_corr(df, index_range):\n",
    "    within_corr = 0\n",
    "    within_count = 0\n",
    "    between_corr = 0\n",
    "    between_count = 0\n",
    "    item_a = df['item_a'].dropna().to_list()\n",
    "    item_b = df['item_b'].dropna().to_list()\n",
    "    corr = df['key_resp_2.corr'].dropna().to_list()\n",
    "    df = df[['pictures', 'segment']].dropna()\n",
    "    for n in index_range:\n",
    "        item_a_seg = df.loc[df['pictures']==item_a[n]]['segment'].to_list()[0]\n",
    "        item_b_seg = df.loc[df['pictures']==item_b[n]]['segment'].to_list()[0]\n",
    "        if item_a_seg == item_b_seg:\n",
    "            within_count += 1\n",
    "            within_corr  += corr[n]\n",
    "        else:\n",
    "            between_count += 1 \n",
    "            between_corr += corr[n]\n",
    "    return within_count, within_corr, between_count, between_corr"
   ]
  },
  {
   "cell_type": "code",
   "execution_count": 4,
   "metadata": {},
   "outputs": [],
   "source": [
    "def segment_classification(f_name):\n",
    "    task = f_name.split('_')[1]\n",
    "    first = task.split('W')[0].replace('task-', '')\n",
    "    second = task.split('W')[1]\n",
    "    conds = {}\n",
    "    df = pd.read_csv(f_name)\n",
    "    conds[first] = count_corr(df, range(36))\n",
    "    conds[second] = count_corr(df, range(36,72))\n",
    "    return conds"
   ]
  },
  {
   "cell_type": "code",
   "execution_count": 5,
   "metadata": {},
   "outputs": [],
   "source": [
    "exp1_data = glob.glob(exp1+'/*.csv')\n",
    "noclock_within = []\n",
    "noclock_between = []\n",
    "clock_within = []\n",
    "clock_between = []\n",
    "for file in exp1_data:\n",
    "    #condition_index_split(file)\n",
    "    conds = segment_classification(file) \n",
    "    noclock_within.append(conds['noclock'][1]/conds['noclock'][0])\n",
    "    noclock_between.append(conds['noclock'][3]/conds['noclock'][2])\n",
    "    clock_within.append(conds['clock'][1]/conds['clock'][0])\n",
    "    clock_between.append(conds['clock'][3]/conds['clock'][2])"
   ]
  },
  {
   "cell_type": "code",
   "execution_count": 6,
   "metadata": {},
   "outputs": [],
   "source": [
    "noclock_within_acc = sum(noclock_within)/len(noclock_within)\n",
    "noclock_between_acc = sum(noclock_between)/len(noclock_between)\n",
    "clock_within_acc = sum(clock_within) / len(clock_within)\n",
    "clock_between_acc = sum(clock_between) / len(clock_between)"
   ]
  },
  {
   "cell_type": "code",
   "execution_count": 7,
   "metadata": {},
   "outputs": [
    {
     "data": {
      "text/plain": [
       "<BarContainer object of 4 artists>"
      ]
     },
     "execution_count": 7,
     "metadata": {},
     "output_type": "execute_result"
    },
    {
     "data": {
      "image/png": "[encoded data removed]",
      "text/plain": [
       "<Figure size 432x288 with 1 Axes>"
      ]
     },
     "metadata": {
      "needs_background": "light"
     },
     "output_type": "display_data"
    }
   ],
   "source": [
    "plt.bar([1,2,3,4],[noclock_within_acc, noclock_between_acc, clock_within_acc, clock_between_acc])"
   ]
  },
  {
   "cell_type": "code",
   "execution_count": null,
   "metadata": {},
   "outputs": [],
   "source": []
  }
 ],
 "metadata": {
  "interpreter": {
   "hash": "ed3b04186b2cbbd1496140e0b8967e22f1c604d6a1ab355e4614f7c68057fa62"
  },
  "kernelspec": {
   "display_name": "Python 3.8.8 ('base')",
   "language": "python",
   "name": "python3"
  },
  "language_info": {
   "codemirror_mode": {
    "name": "ipython",
    "version": 3
   },
   "file_extension": ".py",
   "mimetype": "text/x-python",
   "name": "python",
   "nbconvert_exporter": "python",
   "pygments_lexer": "ipython3",
   "version": "3.8.8"
  },
  "orig_nbformat": 4
 },
 "nbformat": 4,
 "nbformat_minor": 2
}
