{
 "cells": [
  {
   "cell_type": "code",
   "execution_count": 124,
   "metadata": {},
   "outputs": [],
   "source": [
    "import glob\n",
    "import os\n",
    "import pandas as pd\n",
    "import shutil"
   ]
  },
  {
   "cell_type": "code",
   "execution_count": 125,
   "metadata": {},
   "outputs": [],
   "source": [
    "### Paths\n",
    "data_path = '/Users/sunjaeshim/Desktop/Honors Research 2022/Exp 1/data/'\n",
    "BIDS_path = data_path + 'BIDS/'"
   ]
  },
  {
   "cell_type": "code",
   "execution_count": 130,
   "metadata": {},
   "outputs": [],
   "source": [
    "#Use for Exp1 & Exp2\n",
    "def BIDS_data(path_list, BIDS_dir):\n",
    "    new_file_list = []\n",
    "    warning=[]\n",
    "    for file in path_list:\n",
    "        df = pd.read_csv(file)\n",
    "        first = df['present'].dropna().to_list()[0]\n",
    "        df = df[['participant', 'session', 'expName']]\n",
    "        sub = str(df['participant'][0])\n",
    "        time = '_'.join(file.split('_')[-2:]).replace('.csv', '')\n",
    "        if sub == 'nan':\n",
    "            sub = time\n",
    "        task = df['expName'][0]\n",
    "        #rename task based on what cond was first\n",
    "        #e.g. noclock -> clock = noclockWclock\n",
    "        if '2back' in task:\n",
    "            if '2back' in first:\n",
    "                task = '2backWclock'\n",
    "            else:\n",
    "                task = 'clockW2back'\n",
    "            #expNum = '2'\n",
    "        else:\n",
    "            if 'clockno' in first:\n",
    "                task = 'noclockWclock'\n",
    "            else:\n",
    "                task = 'clockWnoclock'\n",
    "            #expNum = '1'\n",
    "        bids_file = 'sub-'+sub+'_task-'+task+'_desc-raw.csv'\n",
    "        #check duplicate outputs (ex. same subject ID)\n",
    "        new_path = BIDS_dir + bids_file\n",
    "        if new_path in new_file_list:\n",
    "            warning.append(file)\n",
    "        new_file_list.append(new_path)\n",
    "        #print(new_path)\n",
    "        shutil.copyfile(file, new_path)\n",
    "    print('check following files: ', warning)"
   ]
  },
  {
   "cell_type": "code",
   "execution_count": 128,
   "metadata": {},
   "outputs": [],
   "source": [
    "# Use for exp3 data\n",
    "def exp3_BIDS_data(path_list, BIDS_dir):\n",
    "    new_file_list = []\n",
    "    warning = []\n",
    "    for file in path_list:\n",
    "        df = pd.read_csv(file)\n",
    "        first = df['present'].dropna().to_list()[0]\n",
    "        df = df[['participant', 'session', 'expName']]\n",
    "        sub = str(df['participant'][0])\n",
    "        time = '_'.join(file.split('_')[-2:]).replace('.csv', '')\n",
    "        if sub == 'nan':\n",
    "            sub = time\n",
    "        task = df['expName'][0]\n",
    "        #rename task based on condition\n",
    "        if '2back' in first:\n",
    "            task = '2back'\n",
    "        else:\n",
    "            task = 'background'\n",
    "        bids_file = 'sub-'+sub+'_task-'+task+'_desc-raw.csv'\n",
    "        new_path = BIDS_dir + bids_file\n",
    "        #check duplicate outputs (ex. same subject ID)\n",
    "        if new_path in new_file_list:\n",
    "            warning.append(file)\n",
    "        new_file_list.append(new_path)\n",
    "        #print(new_path)\n",
    "        shutil.copyfile(file, new_path)\n",
    "    print('check following files: ', warning)"
   ]
  },
  {
   "cell_type": "code",
   "execution_count": 111,
   "metadata": {},
   "outputs": [
    {
     "name": "stdout",
     "output_type": "stream",
     "text": [
      "warning!:  /Users/sunjaeshim/Desktop/Honors Research 2022/Exp 2/data/5e52148e9a302e245eb71caf_2back_pavlovia_VerB_2nd_2021-01-26_23h13.27.012.csv\n"
     ]
    }
   ],
   "source": [
    "exp2_path = '/Users/sunjaeshim/Desktop/Honors Research 2022/Exp 2/data/'\n",
    "exp2_data = glob.glob(exp2_path+'*csv')\n",
    "BIDS_data(exp2_data, exp2_path+'BIDS/')"
   ]
  },
  {
   "cell_type": "code",
   "execution_count": 131,
   "metadata": {},
   "outputs": [
    {
     "name": "stdout",
     "output_type": "stream",
     "text": [
      "check following files:  ['/Users/sunjaeshim/Desktop/Honors Research 2022/Exp 1/data/5eb07963b62d6d1293a92b4a_final_A_pavlovia_2020-06-19_11h37.47.655.csv', '/Users/sunjaeshim/Desktop/Honors Research 2022/Exp 1/data/5ea11f84318028129b89f898_final_A_pavlovia_2020-06-08_04h25.21.016.csv']\n"
     ]
    }
   ],
   "source": [
    "data_path = '/Users/sunjaeshim/Desktop/Honors Research 2022/Exp 1/data/'\n",
    "exp1_data = glob.glob(data_path+'*csv')\n",
    "#print(exp1_data)\n",
    "BIDS_path = data_path + 'BIDS/'\n",
    "BIDS_data(exp1_data, BIDS_path)"
   ]
  },
  {
   "cell_type": "code",
   "execution_count": 89,
   "metadata": {},
   "outputs": [
    {
     "data": {
      "text/plain": [
       "165"
      ]
     },
     "execution_count": 89,
     "metadata": {},
     "output_type": "execute_result"
    }
   ],
   "source": [
    "len(glob.glob(exp2_path+'BIDS/*.csv'))"
   ]
  },
  {
   "cell_type": "code",
   "execution_count": 122,
   "metadata": {},
   "outputs": [],
   "source": [
    "exp3_path = '/Users/sunjaeshim/Desktop/Honors Research 2022/Exp 3/data/'\n",
    "exp3_data = glob.glob(exp3_path+'*csv')\n",
    "exp3_BIDS = exp3_path+'BIDS/'\n",
    "exp3_BIDS_data(exp3_data, exp3_BIDS)"
   ]
  },
  {
   "cell_type": "code",
   "execution_count": 123,
   "metadata": {},
   "outputs": [
    {
     "data": {
      "text/plain": [
       "42"
      ]
     },
     "execution_count": 123,
     "metadata": {},
     "output_type": "execute_result"
    }
   ],
   "source": [
    "len(glob.glob(exp3_BIDS+'*csv'))"
   ]
  },
  {
   "cell_type": "code",
   "execution_count": null,
   "metadata": {},
   "outputs": [],
   "source": []
  }
 ],
 "metadata": {
  "interpreter": {
   "hash": "ed3b04186b2cbbd1496140e0b8967e22f1c604d6a1ab355e4614f7c68057fa62"
  },
  "kernelspec": {
   "display_name": "Python 3.8.8 ('base')",
   "language": "python",
   "name": "python3"
  },
  "language_info": {
   "codemirror_mode": {
    "name": "ipython",
    "version": 3
   },
   "file_extension": ".py",
   "mimetype": "text/x-python",
   "name": "python",
   "nbconvert_exporter": "python",
   "pygments_lexer": "ipython3",
   "version": "3.8.8"
  },
  "orig_nbformat": 4
 },
 "nbformat": 4,
 "nbformat_minor": 2
}
