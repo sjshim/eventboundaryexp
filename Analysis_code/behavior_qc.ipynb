{
 "cells": [
  {
   "cell_type": "code",
   "execution_count": 2,
   "metadata": {},
   "outputs": [],
   "source": [
    "import glob\n",
    "import pandas as pd\n",
    "import os"
   ]
  },
  {
   "cell_type": "code",
   "execution_count": 11,
   "metadata": {},
   "outputs": [],
   "source": [
    "data_path = '/Users/sunjaeshim/Desktop/Honors Research 2022/Exp 2/data/BIDS/'"
   ]
  },
  {
   "cell_type": "code",
   "execution_count": 7,
   "metadata": {},
   "outputs": [],
   "source": [
    "def check_data(df):\n",
    "    #df = pd.read_csv('/Users/sunjaeshim/Desktop/Honors Research 2022/Exp 3/data/BIDS/sub-5ac8328afa3b4e0001738e4e_task-background_desc-raw.csv')\n",
    "    present = df['pictures'].dropna()\n",
    "    item_a = df['item_a'].dropna()\n",
    "    item_b = df['item_b'].dropna()\n",
    "\n",
    "    #checking if there are unique items presented during temporal phase\n",
    "    item_a_unique = item_a[~item_a.isin(present)]\n",
    "    item_b_unique = item_b[~item_b.isin(present)]\n",
    "\n",
    "    #checking if there are repeated items in presentation phase\n",
    "    repeats = []\n",
    "    for item_a in item_a.to_list():\n",
    "        count = (present == item_a).sum()\n",
    "        if count > 1:\n",
    "            repeats.append(item_a)\n",
    "            \n",
    "    for item_b in item_b.to_list():\n",
    "        count = 0\n",
    "        if item_b in present:\n",
    "            count = (present == item_b).sum()\n",
    "        if count > 1:\n",
    "            repeats.append(item_b)\n",
    "    return item_a_unique, item_b_unique, repeats"
   ]
  },
  {
   "cell_type": "code",
   "execution_count": 18,
   "metadata": {},
   "outputs": [
    {
     "name": "stdout",
     "output_type": "stream",
     "text": [
      "/Users/sunjaeshim/Desktop/Honors Research 2022/Exp 2/data/BIDS/sub-5d2f46f4c30834001aeb5abc_task-2backWclock_desc-raw.csv\n",
      "/Users/sunjaeshim/Desktop/Honors Research 2022/Exp 2/data/BIDS/sub-5ea720a669cae10d910fba3e_task-2backWclock_desc-raw.csv\n",
      "/Users/sunjaeshim/Desktop/Honors Research 2022/Exp 2/data/BIDS/sub-5f5452df72345118f58d187b_task-2backWclock_desc-raw.csv\n",
      "/Users/sunjaeshim/Desktop/Honors Research 2022/Exp 2/data/BIDS/sub-5e428b48902afe117c45d261_task-2backWclock_desc-raw.csv\n",
      "/Users/sunjaeshim/Desktop/Honors Research 2022/Exp 2/data/BIDS/sub-5f26a21c70a6d23f6032b1ea_task-2backWclock_desc-raw.csv\n",
      "/Users/sunjaeshim/Desktop/Honors Research 2022/Exp 2/data/BIDS/sub-prolific ID_task-2backWclock_desc-raw.csv\n",
      "/Users/sunjaeshim/Desktop/Honors Research 2022/Exp 2/data/BIDS/sub-569ad7c8af9ad7000b64253d_task-2backWclock_desc-raw.csv\n",
      "/Users/sunjaeshim/Desktop/Honors Research 2022/Exp 2/data/BIDS/sub-55b424e1fdf99b526efcf8d0_task-2backWclock_desc-raw.csv\n",
      "/Users/sunjaeshim/Desktop/Honors Research 2022/Exp 2/data/BIDS/sub-5e646461698a071f2f15423e_task-2backWclock_desc-raw.csv\n",
      "/Users/sunjaeshim/Desktop/Honors Research 2022/Exp 2/data/BIDS/sub-5f9115299908a021dfcf4fae_task-2backWclock_desc-raw.csv\n"
     ]
    }
   ],
   "source": [
    "data = glob.glob(data_path+'*.csv')\n",
    "excludes = []\n",
    "for f_name in data:\n",
    "    df = pd.read_csv(f_name)\n",
    "    item_a_unique, item_b_unique, repeats = check_data(df)\n",
    "    if len(item_a_unique) != 0:\n",
    "        print(f_name)\n",
    "        excludes.append(f_name)\n",
    "    #if len(item_b_unique) != 0:\n",
    "    #    print(f_name)\n",
    "    #if len(repeats) != 0:\n",
    "    #    print(f_name)"
   ]
  },
  {
   "cell_type": "code",
   "execution_count": 21,
   "metadata": {},
   "outputs": [],
   "source": [
    "for file in excludes:\n",
    "    os.rename(file, file.replace('/BIDS/', '/BIDS/exclude/'))"
   ]
  },
  {
   "cell_type": "code",
   "execution_count": null,
   "metadata": {},
   "outputs": [],
   "source": []
  }
 ],
 "metadata": {
  "kernelspec": {
   "display_name": "Python 3.8.8 ('base')",
   "language": "python",
   "name": "python3"
  },
  "language_info": {
   "codemirror_mode": {
    "name": "ipython",
    "version": 3
   },
   "file_extension": ".py",
   "mimetype": "text/x-python",
   "name": "python",
   "nbconvert_exporter": "python",
   "pygments_lexer": "ipython3",
   "version": "3.8.8"
  },
  "orig_nbformat": 4,
  "vscode": {
   "interpreter": {
    "hash": "ed3b04186b2cbbd1496140e0b8967e22f1c604d6a1ab355e4614f7c68057fa62"
   }
  }
 },
 "nbformat": 4,
 "nbformat_minor": 2
}
