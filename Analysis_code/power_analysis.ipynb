{
 "cells": [
  {
   "cell_type": "code",
   "execution_count": 6,
   "metadata": {},
   "outputs": [],
   "source": [
    "import os\n",
    "import glob\n",
    "import pandas as pd\n",
    "import matplotlib.pyplot as plt"
   ]
  },
  {
   "cell_type": "code",
   "execution_count": 12,
   "metadata": {},
   "outputs": [],
   "source": [
    "exp1 = '/Users/sunjaeshim/Desktop/Honors_Research_2022/Exp 1/data/BIDS/'\n",
    "exp2 = '/Users/sunjaeshim/Desktop/Honors_Research_2022/Exp 2/data/BIDS/'\n",
    "exp3 = '/Users/sunjaeshim/Desktop/Honors_Research_2022/Exp 3/data/BIDS/'"
   ]
  },
  {
   "cell_type": "code",
   "execution_count": 13,
   "metadata": {},
   "outputs": [],
   "source": [
    "def get_present_accuracy(df):\n",
    "    return df['key_resp.corr'].sum()/len(df['key_resp.corr'].dropna())"
   ]
  },
  {
   "cell_type": "code",
   "execution_count": 14,
   "metadata": {},
   "outputs": [],
   "source": [
    "def visualize_accuracy_hist(list_of_acc):\n",
    "    plt.hist(list_of_acc)\n",
    "    plt.show()"
   ]
  },
  {
   "cell_type": "code",
   "execution_count": 15,
   "metadata": {},
   "outputs": [],
   "source": [
    "def main(path):\n",
    "    files = glob.glob(path+'*.csv')\n",
    "    low_acc = []\n",
    "    all_accuracys = []\n",
    "    for f_name in files:\n",
    "        df = pd.read_csv(f_name)\n",
    "        acc = get_present_accuracy(df)\n",
    "        all_accuracys.append(acc)\n",
    "        if acc < 0.9:\n",
    "            low_acc.append(f_name)\n",
    "    print('Total N = ', len(all_accuracys))\n",
    "    print('# of participants with acc below 90% = ', len(low_acc))\n",
    "    print('Accuracy Histogram')\n",
    "    visualize_accuracy_hist(all_accuracys)"
   ]
  },
  {
   "cell_type": "code",
   "execution_count": 16,
   "metadata": {},
   "outputs": [
    {
     "name": "stdout",
     "output_type": "stream",
     "text": [
      "Total N =  84\n",
      "# of participants with acc below 90% =  9\n",
      "Accuracy Histogram\n"
     ]
    },
    {
     "data": {
      "image/png": "[encoded data removed]",
      "text/plain": [
       "<Figure size 432x288 with 1 Axes>"
      ]
     },
     "metadata": {
      "needs_background": "light"
     },
     "output_type": "display_data"
    }
   ],
   "source": [
    "main(exp1)"
   ]
  },
  {
   "cell_type": "code",
   "execution_count": 17,
   "metadata": {},
   "outputs": [
    {
     "name": "stdout",
     "output_type": "stream",
     "text": [
      "Total N =  207\n",
      "# of participants with acc below 90% =  72\n",
      "Accuracy Histogram\n"
     ]
    },
    {
     "data": {
      "image/png": "[encoded data removed]",
      "text/plain": [
       "<Figure size 432x288 with 1 Axes>"
      ]
     },
     "metadata": {
      "needs_background": "light"
     },
     "output_type": "display_data"
    }
   ],
   "source": [
    "main(exp2)"
   ]
  },
  {
   "cell_type": "code",
   "execution_count": 18,
   "metadata": {},
   "outputs": [
    {
     "name": "stdout",
     "output_type": "stream",
     "text": [
      "Total N =  42\n",
      "# of participants with acc below 90% =  20\n",
      "Accuracy Histogram\n"
     ]
    },
    {
     "data": {
      "image/png": "[encoded data removed]",
      "text/plain": [
       "<Figure size 432x288 with 1 Axes>"
      ]
     },
     "metadata": {
      "needs_background": "light"
     },
     "output_type": "display_data"
    }
   ],
   "source": [
    "main(exp3)"
   ]
  },
  {
   "cell_type": "markdown",
   "metadata": {},
   "source": []
  }
 ],
 "metadata": {
  "kernelspec": {
   "display_name": "Python 3.8.8 ('base')",
   "language": "python",
   "name": "python3"
  },
  "language_info": {
   "codemirror_mode": {
    "name": "ipython",
    "version": 3
   },
   "file_extension": ".py",
   "mimetype": "text/x-python",
   "name": "python",
   "nbconvert_exporter": "python",
   "pygments_lexer": "ipython3",
   "version": "3.8.8"
  },
  "orig_nbformat": 4,
  "vscode": {
   "interpreter": {
    "hash": "ed3b04186b2cbbd1496140e0b8967e22f1c604d6a1ab355e4614f7c68057fa62"
   }
  }
 },
 "nbformat": 4,
 "nbformat_minor": 2
}
